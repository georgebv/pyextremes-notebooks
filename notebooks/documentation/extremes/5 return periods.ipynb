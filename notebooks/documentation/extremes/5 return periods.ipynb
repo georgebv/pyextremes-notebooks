{
 "cells": [
  {
   "cell_type": "code",
   "execution_count": 1,
   "id": "9be5070e-6df9-4f07-bd6a-612f38b87ac2",
   "metadata": {},
   "outputs": [
    {
     "name": "stdout",
     "output_type": "stream",
     "text": [
      "pyextremes 2.2.3\n"
     ]
    }
   ],
   "source": [
    "import pandas as pd\n",
    "\n",
    "pd.set_option(\"display.width\", 1000)\n",
    "\n",
    "from pyextremes import __version__, get_extremes, get_return_periods\n",
    "print(\"pyextremes\", __version__)"
   ]
  },
  {
   "cell_type": "markdown",
   "id": "b3e311cf-aafa-4e07-b8c4-6c6f45ec82bb",
   "metadata": {},
   "source": [
    "# Load Data"
   ]
  },
  {
   "cell_type": "code",
   "execution_count": 2,
   "id": "89201c8e-93ac-4a04-bf82-d8c60bb5daa0",
   "metadata": {},
   "outputs": [],
   "source": [
    "data = pd.read_csv(\n",
    "    \"../../../data/battery_wl.csv\",\n",
    "    index_col=0,\n",
    "    parse_dates=True,\n",
    "    squeeze=True,\n",
    ")\n",
    "data = (\n",
    "    data\n",
    "    .sort_index(ascending=True)\n",
    "    .astype(float)\n",
    "    .dropna()\n",
    "    .loc[pd.to_datetime(\"1925\"):]\n",
    ")\n",
    "data = data - (data.index.array - pd.to_datetime(\"1992\")) / pd.to_timedelta(\"365.2425D\") * 2.87e-3"
   ]
  },
  {
   "cell_type": "markdown",
   "id": "6be05de5-845f-4d60-b2d4-b1e316833a2c",
   "metadata": {},
   "source": [
    "# Block Maxima"
   ]
  },
  {
   "cell_type": "code",
   "execution_count": 3,
   "id": "cf5bf905-dae7-4969-b518-6f49572eb2a7",
   "metadata": {},
   "outputs": [],
   "source": [
    "extremes = get_extremes(\n",
    "    ts=data,\n",
    "    method=\"BM\",\n",
    "    block_size=\"365.2425D\",\n",
    ")"
   ]
  },
  {
   "cell_type": "code",
   "execution_count": 4,
   "id": "a36279b8-735e-4ec1-85bb-61d3cd0582a0",
   "metadata": {},
   "outputs": [],
   "source": [
    "def get_rp_bm(pp: str) -> pd.DataFrame:\n",
    "    return_periods = get_return_periods(\n",
    "        ts=data,\n",
    "        extremes=extremes,\n",
    "        extremes_method=\"BM\",\n",
    "        extremes_type=\"high\",\n",
    "        block_size=\"365.2425D\",\n",
    "        return_period_size=\"365.2425D\",\n",
    "        plotting_position=pp,\n",
    "    )\n",
    "    return return_periods.sort_values(\"return period\", ascending=False).head()"
   ]
  },
  {
   "cell_type": "code",
   "execution_count": 5,
   "id": "748b0ee4-e022-405e-a1da-4f817008f7c0",
   "metadata": {},
   "outputs": [
    {
     "name": "stdout",
     "output_type": "stream",
     "text": [
      "weibull\n",
      "                     Water Elevation [m NAVD88]  exceedance probability  return period\n",
      "Date-Time (GMT)                                                                       \n",
      "2012-10-30 01:00:00                    3.357218                0.010526      95.000000\n",
      "1960-09-12 18:00:00                    2.295832                0.021053      47.500000\n",
      "1992-12-11 14:00:00                    2.108284                0.031579      31.666667\n",
      "1953-11-07 12:00:00                    2.101487                0.042105      23.750000\n",
      "1950-11-25 14:00:00                    2.012957                0.052632      19.000000\n",
      "\n",
      "\n",
      "\n",
      "median\n",
      "                     Water Elevation [m NAVD88]  exceedance probability  return period\n",
      "Date-Time (GMT)                                                                       \n",
      "2012-10-30 01:00:00                    3.357218                0.007233     138.263736\n",
      "1960-09-12 18:00:00                    2.295832                0.017830      56.086181\n",
      "1992-12-11 14:00:00                    2.108284                0.028427      35.178006\n",
      "1953-11-07 12:00:00                    2.101487                0.039024      25.625255\n",
      "1950-11-25 14:00:00                    2.012957                0.049621      20.152696\n",
      "\n",
      "\n",
      "\n",
      "cunnane\n",
      "                     Water Elevation [m NAVD88]  exceedance probability  return period\n",
      "Date-Time (GMT)                                                                       \n",
      "2012-10-30 01:00:00                    3.357218                0.006369     157.000000\n",
      "1960-09-12 18:00:00                    2.295832                0.016985      58.875000\n",
      "1992-12-11 14:00:00                    2.108284                0.027601      36.230769\n",
      "1953-11-07 12:00:00                    2.101487                0.038217      26.166667\n",
      "1950-11-25 14:00:00                    2.012957                0.048832      20.478261\n",
      "\n",
      "\n",
      "\n",
      "gringorten\n",
      "                     Water Elevation [m NAVD88]  exceedance probability  return period\n",
      "Date-Time (GMT)                                                                       \n",
      "2012-10-30 01:00:00                    3.357218                0.005950     168.071429\n",
      "1960-09-12 18:00:00                    2.295832                0.016575      60.333333\n",
      "1992-12-11 14:00:00                    2.108284                0.027199      36.765625\n",
      "1953-11-07 12:00:00                    2.101487                0.037824      26.438202\n",
      "1950-11-25 14:00:00                    2.012957                0.048449      20.640351\n",
      "\n",
      "\n",
      "\n"
     ]
    }
   ],
   "source": [
    "for plotting_position in [\"weibull\", \"median\", \"cunnane\", \"gringorten\"]:\n",
    "    print(plotting_position)\n",
    "    print(get_rp_bm(plotting_position))\n",
    "    print(\"\\n\\n\")"
   ]
  },
  {
   "cell_type": "markdown",
   "id": "ef5c728b-d903-469c-beb1-45e8e15a40a7",
   "metadata": {},
   "source": [
    "# Peaks Over Threshold"
   ]
  },
  {
   "cell_type": "code",
   "execution_count": 6,
   "id": "71bd0f6e-efcd-431a-9eed-b651bde80901",
   "metadata": {},
   "outputs": [],
   "source": [
    "extremes = get_extremes(\n",
    "    ts=data,\n",
    "    method=\"POT\",\n",
    "    threshold=1.5,\n",
    ")"
   ]
  },
  {
   "cell_type": "code",
   "execution_count": 7,
   "id": "a51e5761-b0cb-4ba3-b11d-d11f1709c407",
   "metadata": {},
   "outputs": [],
   "source": [
    "def get_rp_pot(pp: str) -> pd.DataFrame:\n",
    "    return_periods = get_return_periods(\n",
    "        ts=data,\n",
    "        extremes=extremes,\n",
    "        extremes_method=\"BM\",\n",
    "        extremes_type=\"high\",\n",
    "        return_period_size=\"365.2425D\",\n",
    "        plotting_position=pp,\n",
    "    )\n",
    "    return return_periods.sort_values(\"return period\", ascending=False).head()"
   ]
  },
  {
   "cell_type": "code",
   "execution_count": 8,
   "id": "3cf8bb15-0566-4bfd-a5a4-7db386179436",
   "metadata": {},
   "outputs": [
    {
     "name": "stdout",
     "output_type": "stream",
     "text": [
      "weibull\n",
      "                     Water Elevation [m NAVD88]  exceedance probability  return period\n",
      "Date-Time (GMT)                                                                       \n",
      "2012-10-30 01:00:00                    3.357218                0.022222      52.793692\n",
      "1960-09-12 18:00:00                    2.295832                0.044444      26.396846\n",
      "1992-12-11 14:00:00                    2.108284                0.066667      17.597897\n",
      "1953-11-07 12:00:00                    2.101487                0.088889      13.198423\n",
      "1950-11-25 14:00:00                    2.012957                0.111111      10.558738\n",
      "\n",
      "\n",
      "\n",
      "median\n",
      "                     Water Elevation [m NAVD88]  exceedance probability  return period\n",
      "Date-Time (GMT)                                                                       \n",
      "2012-10-30 01:00:00                    3.357218                0.015384      76.261852\n",
      "1960-09-12 18:00:00                    2.295832                0.037924      30.935343\n",
      "1992-12-11 14:00:00                    2.108284                0.060464      19.403062\n",
      "1953-11-07 12:00:00                    2.101487                0.083005      14.134070\n",
      "1950-11-25 14:00:00                    2.012957                0.105545      11.115582\n",
      "\n",
      "\n",
      "\n",
      "cunnane\n",
      "                     Water Elevation [m NAVD88]  exceedance probability  return period\n",
      "Date-Time (GMT)                                                                       \n",
      "2012-10-30 01:00:00                    3.357218                0.013575      86.425229\n",
      "1960-09-12 18:00:00                    2.295832                0.036199      32.409461\n",
      "1992-12-11 14:00:00                    2.108284                0.058824      19.944284\n",
      "1953-11-07 12:00:00                    2.101487                0.081448      14.404205\n",
      "1950-11-25 14:00:00                    2.012957                0.104072      11.272856\n",
      "\n",
      "\n",
      "\n",
      "gringorten\n",
      "                     Water Elevation [m NAVD88]  exceedance probability  return period\n",
      "Date-Time (GMT)                                                                       \n",
      "2012-10-30 01:00:00                    3.357218                0.012693      92.430861\n",
      "1960-09-12 18:00:00                    2.295832                0.035358      33.180309\n",
      "1992-12-11 14:00:00                    2.108284                0.058024      20.219251\n",
      "1953-11-07 12:00:00                    2.101487                0.080689      14.539686\n",
      "1950-11-25 14:00:00                    2.012957                0.103354      11.351158\n",
      "\n",
      "\n",
      "\n"
     ]
    }
   ],
   "source": [
    "for plotting_position in [\"weibull\", \"median\", \"cunnane\", \"gringorten\"]:\n",
    "    print(plotting_position)\n",
    "    print(get_rp_pot(plotting_position))\n",
    "    print(\"\\n\\n\")"
   ]
  }
 ],
 "metadata": {
  "kernelspec": {
   "display_name": "Python 3 (ipykernel)",
   "language": "python",
   "name": "python3"
  },
  "language_info": {
   "codemirror_mode": {
    "name": "ipython",
    "version": 3
   },
   "file_extension": ".py",
   "mimetype": "text/x-python",
   "name": "python",
   "nbconvert_exporter": "python",
   "pygments_lexer": "ipython3",
   "version": "3.9.7"
  }
 },
 "nbformat": 4,
 "nbformat_minor": 5
}
